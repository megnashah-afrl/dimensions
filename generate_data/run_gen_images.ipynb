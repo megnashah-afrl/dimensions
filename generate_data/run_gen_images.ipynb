{
 "cells": [
  {
   "cell_type": "code",
   "execution_count": 30,
   "id": "aba8389f-cf57-43fa-9ecf-a6028bd32822",
   "metadata": {},
   "outputs": [
    {
     "name": "stderr",
     "output_type": "stream",
     "text": [
      "[nltk_data] Downloading package wordnet to /home/jupyter/nltk_data...\n",
      "[nltk_data]   Package wordnet is already up-to-date!\n",
      "[nltk_data] Downloading package omw-1.4 to /home/jupyter/nltk_data...\n",
      "[nltk_data]   Package omw-1.4 is already up-to-date!\n"
     ]
    },
    {
     "name": "stdout",
     "output_type": "stream",
     "text": [
      "Namespace(add=False, batch_size=100, class_id=0, class_name='basenji', gpu_id='1', latent_dim=16, model_file='biggan-deep-128', num_samples=1000, save_dir='samples/basenji_16', truncation=1)\n",
      "Saving to samples/basenji_16\n",
      "Batch: 1/10\n",
      "Batch: 2/10\n",
      "Batch: 3/10\n",
      "Batch: 4/10\n",
      "Batch: 5/10\n",
      "Batch: 6/10\n",
      "Batch: 7/10\n",
      "Batch: 8/10\n",
      "Batch: 9/10\n",
      "Batch: 10/10\n",
      "Num images generated: 1000\n",
      "Runtime: 0:00:09.759766\n"
     ]
    }
   ],
   "source": [
    "import gen_images\n",
    "import os \n",
    "import nltk\n",
    "nltk.download('wordnet')\n",
    "nltk.download('omw-1.4')\n",
    "args = gen_images.parser.parse_args('')\n",
    "args.num_samples = 1000\n",
    "args.class_name = 'basenji'\n",
    "args.latent_dim = 16\n",
    "args.batch_size = 100 \n",
    "args.save_dir = 'samples/basenji_16'\n",
    "args.add = False\n",
    "args.gpu_id = '1'\n",
    "print(args)\n",
    "\n",
    "gen_images.main(args)"
   ]
  },
  {
   "cell_type": "code",
   "execution_count": null,
   "id": "e2ce49e1-f3d8-4288-aaff-093e1aa971f8",
   "metadata": {},
   "outputs": [],
   "source": []
  },
  {
   "cell_type": "code",
   "execution_count": null,
   "id": "d1bf59f0-2738-42a8-b286-2c0eba2969e1",
   "metadata": {},
   "outputs": [],
   "source": []
  }
 ],
 "metadata": {
  "environment": {
   "kernel": "python3",
   "name": "pytorch-gpu.1-11.m91",
   "type": "gcloud",
   "uri": "gcr.io/deeplearning-platform-release/pytorch-gpu.1-11:m91"
  },
  "kernelspec": {
   "display_name": "Python 3",
   "language": "python",
   "name": "python3"
  },
  "language_info": {
   "codemirror_mode": {
    "name": "ipython",
    "version": 3
   },
   "file_extension": ".py",
   "mimetype": "text/x-python",
   "name": "python",
   "nbconvert_exporter": "python",
   "pygments_lexer": "ipython3",
   "version": "3.7.12"
  }
 },
 "nbformat": 4,
 "nbformat_minor": 5
}
